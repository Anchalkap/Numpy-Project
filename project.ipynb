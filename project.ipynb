{
 "cells": [
  {
   "cell_type": "code",
   "execution_count": 11,
   "id": "90fe3598-c2e9-46a0-b5e1-46c8a6bd866f",
   "metadata": {},
   "outputs": [],
   "source": []
  },
  {
   "cell_type": "code",
   "execution_count": 15,
   "id": "c7d6ac58-ff8a-4a80-89b8-62f333e44598",
   "metadata": {},
   "outputs": [
    {
     "name": "stdout",
     "output_type": "stream",
     "text": [
      "*******WELCOME TO ATM*******\n",
      "___________________________________________________________\n",
      "\n"
     ]
    },
    {
     "name": "stdin",
     "output_type": "stream",
     "text": [
      "Enter the pin:  7654\n",
      "Enter the pin again:  7654\n"
     ]
    },
    {
     "name": "stdout",
     "output_type": "stream",
     "text": [
      "Not a registered user\n"
     ]
    },
    {
     "name": "stdin",
     "output_type": "stream",
     "text": [
      "To register enter R else N R\n",
      "Enter the pin 7654\n",
      "Do you want to do any transaction?(y/n): n\n"
     ]
    },
    {
     "name": "stdout",
     "output_type": "stream",
     "text": [
      "Thank you\n"
     ]
    }
   ],
   "source": [
    "import random\n",
    "import sys\n",
    "\n",
    "\n",
    "class atm():\n",
    "    def __init__(self,p1 , b=0):\n",
    "        self.p=p1\n",
    "        self.b = b\n",
    "\n",
    "    def deposit(self, amount):\n",
    "        self.amount = amount\n",
    "        self.b = self.b + self.amount\n",
    "        print(\"Current account balance: Nu.\", self.b)\n",
    "        print()\n",
    "\n",
    "    def wdraw(self, amount):\n",
    "        self.amount = amount\n",
    "        if self.amount > self.b:\n",
    "            print(\"Insufficient fund!\")\n",
    "            print(f\"Your balance is Nu.{self.b} only.\")\n",
    "            print(\"Try with lesser amount than balance.\")\n",
    "            print()\n",
    "        else:\n",
    "            self.b = self.b - self.amount\n",
    "            print(f\"Nu.{amount} withdrawal successful!\")\n",
    "            print(\"Current account balance: Nu.\", self.b)\n",
    "            print()\n",
    "\n",
    "    def transferfunds(self, amount):\n",
    "        self.amount = amount\n",
    "        checking_b = 10000-self.amount\n",
    "\n",
    "        self.b = self.b +self.amount\n",
    "        print(\"Account balance: Nu.\", self.b)\n",
    "        print()\n",
    "        print(\"Checking Balance: Nu.\", checking_b)\n",
    "        print()\n",
    "\n",
    "\n",
    "\n",
    "    def check_b(self):\n",
    "        print(\"Available balance: Nu.\", self.b)\n",
    "        print()\n",
    "\n",
    "    def transaction(self):\n",
    "\n",
    "        while True:\n",
    "            try:\n",
    "                option = int(input(\"Enter 1, 2, 3, 4 \"))\n",
    "            except:\n",
    "                print(\"Error: Enter 1, 2, 3, 4 only!!!\\n\")\n",
    "                continue\n",
    "            else:\n",
    "                if option == 1:\n",
    "                    atm.check_b()\n",
    "                elif option == 2:\n",
    "                    amount = int(input(\"How much you want to deposit(Nu.):\"))\n",
    "                    atm.deposit(amount)\n",
    "                elif option == 3:\n",
    "                    amount = int(input(\"How much you want to withdraw(Nu.):\"))\n",
    "                    atm.wdraw(amount)\n",
    "                elif option == 4:\n",
    "                    amount = int(input(\"Enter the amount to transfer(Nu.):\"))\n",
    "                    atm.transferfunds(amount)\n",
    "                else:\n",
    "                    print(\"Wrong input\")\n",
    "                    sys.exit()\n",
    "\n",
    "\n",
    "\n",
    "\n",
    "user={'1234':0.0}\n",
    "print(\"*******WELCOME TO ATM*******\")\n",
    "print(\"___________________________________________________________\\n\")\n",
    "p1 = input(\"Enter the pin: \")\n",
    "p2=input(\"Enter the pin again: \")\n",
    "if p1 != p2:\n",
    "    print(\"Wrong pin. Try again.\")\n",
    "elif p1 not in user:\n",
    "    print(\"Not a registered user\")\n",
    "    x=input(\"To register enter R else N\")\n",
    "    if x=='R':\n",
    "        data=input(\"Enter the pin\")\n",
    "        if data in user:\n",
    "            print(\"Enter another pin\")\n",
    "        else:\n",
    "            user[data]=0.0\n",
    "    elif x=='N':\n",
    "        sys.exit()\n",
    "    else:\n",
    "        print(\"Invalid input\")\n",
    "else:\n",
    "    print(\"Pin verified\")\n",
    "\n",
    "atm=atm(p1)\n",
    "while True:\n",
    "    trans = input(\"Do you want to do any transaction?(y/n):\")\n",
    "    if trans == \"y\":\n",
    "        atm.transaction()\n",
    "    elif trans == \"n\":\n",
    "        print(\"Thank you\")\n",
    "        break\n",
    "    else:\n",
    "        print(\"Wrong command!\\n\")\n"
   ]
  },
  {
   "cell_type": "code",
   "execution_count": null,
   "id": "202ec55e-4c57-45e4-aebf-f64ce5540863",
   "metadata": {},
   "outputs": [],
   "source": [
    "\n",
    "\n"
   ]
  },
  {
   "cell_type": "code",
   "execution_count": null,
   "id": "ad3e57b8-fe6d-478f-a2d0-5ca400f35dc7",
   "metadata": {},
   "outputs": [],
   "source": []
  }
 ],
 "metadata": {
  "kernelspec": {
   "display_name": "Python 3 (ipykernel)",
   "language": "python",
   "name": "python3"
  },
  "language_info": {
   "codemirror_mode": {
    "name": "ipython",
    "version": 3
   },
   "file_extension": ".py",
   "mimetype": "text/x-python",
   "name": "python",
   "nbconvert_exporter": "python",
   "pygments_lexer": "ipython3",
   "version": "3.9.1"
  }
 },
 "nbformat": 4,
 "nbformat_minor": 5
}
